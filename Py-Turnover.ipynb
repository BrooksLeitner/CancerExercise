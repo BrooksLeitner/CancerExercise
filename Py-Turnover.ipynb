{
 "cells": [
  {
   "cell_type": "code",
   "execution_count": 37,
   "metadata": {},
   "outputs": [],
   "source": [
    "import pandas as pd\n",
    "import numpy as np\n",
    "import matplotlib\n",
    "import matplotlib.pyplot as plt\n",
    "import seaborn as sns\n",
    "from scipy.stats import zscore\n",
    "from scipy.stats import f_oneway\n",
    "\n",
    "matplotlib.rcParams['svg.fonttype'] = 'none'"
   ]
  },
  {
   "cell_type": "code",
   "execution_count": 38,
   "metadata": {},
   "outputs": [],
   "source": [
    "plasmadata = \"/Users/brooksleitner/Desktop/Python/PerryLabData/ExerciseCancer/ExerciseCancerMouseData/data/metabolomics/Plasma_summary.xlsx\"\n",
    "\n",
    "plasmapoolsize = pd.read_excel(plasmadata, sheet_name=3, header=0)\n",
    "plasmanormalizedlabeling = pd.read_excel(plasmadata, sheet_name=2, header=0)\n",
    "plasmaraw = pd.read_excel(plasmadata, sheet_name=0, header=0)"
   ]
  },
  {
   "cell_type": "code",
   "execution_count": 39,
   "metadata": {},
   "outputs": [],
   "source": [
    "plasmaraw_glucose = plasmaraw[plasmaraw['Compound'] == 'Glucose']\n",
    "raw2H_glucose = plasmaraw_glucose.groupby(['Compound','2H#']).sum().drop(columns=['13C#']).reset_index(level=[0,1])"
   ]
  },
  {
   "cell_type": "code",
   "execution_count": 40,
   "metadata": {},
   "outputs": [],
   "source": [
    "#Average minute 110 and 120 for all mice\n",
    "\n",
    "mice = [1, 2, 3, 5, 6, 7, 8, 9, 10, 11, 12, 13, 14, 15, 16]\n",
    "for x in mice:\n",
    "    raw2H_glucose[str(x)+'_Avg'] = (raw2H_glucose[str(x)+'_110'] + raw2H_glucose[str(x)+'_120']) / 2"
   ]
  },
  {
   "cell_type": "code",
   "execution_count": 41,
   "metadata": {},
   "outputs": [],
   "source": [
    "#Normalize to make fractions that add up to 1 for each column\n",
    "\n",
    "raw2H_glucose_nml = raw2H_glucose.filter(regex='Avg') / raw2H_glucose.filter(regex='Avg').sum()"
   ]
  },
  {
   "cell_type": "code",
   "execution_count": 42,
   "metadata": {},
   "outputs": [],
   "source": [
    "plasmaraw_glutamine = plasmaraw[plasmaraw['Compound'] == 'glutamine']\n",
    "raw13C_glutamine = plasmaraw_glutamine.groupby(['Compound','13C#']).sum().drop(columns=['2H#']).reset_index(level=[0,1])"
   ]
  },
  {
   "cell_type": "code",
   "execution_count": 43,
   "metadata": {},
   "outputs": [],
   "source": [
    "#Average minute 110 and 120 for all mice\n",
    "\n",
    "mice = [1, 2, 3, 5, 6, 7, 8, 9, 10, 11, 12, 13, 14, 15, 16]\n",
    "for x in mice:\n",
    "    raw13C_glutamine[str(x)+'_Avg'] = (raw13C_glutamine[str(x)+'_110'] + raw13C_glutamine[str(x)+'_120']) / 2"
   ]
  },
  {
   "cell_type": "code",
   "execution_count": 44,
   "metadata": {},
   "outputs": [],
   "source": [
    "raw13C_glutamine_nml = raw13C_glutamine.filter(regex='Avg')  / raw13C_glutamine.filter(regex='Avg').sum()"
   ]
  },
  {
   "cell_type": "code",
   "execution_count": 45,
   "metadata": {},
   "outputs": [],
   "source": [
    "#insert body weight (grams) from laboratory notebook Page 66\n",
    "\n",
    "body_weight = [28.72, 27.8, 27.6, 28.1, 26.7, 29.5, 26.1, 25.1, 30.3, 28.5, 29.3, 27.3, 26.6, 28.9, 25.4]\n",
    "\n",
    "infusion_rate_uL = [4.6, 4.4, 4.4, 4.5, 4.3, 4.7, 4.2, 4.0, 4.8, 4.6, 4.7, 4.4, 4.3, 4.6, 4.1]\n",
    "#Infusion rate of glucose tracer in umol/kg/minute\n",
    "#1 mg/kg/min is 5.34 umol/kg/min.\n",
    "#5.34 * (weight/25) = infusion rate in uMol/kg/min\n",
    "\n",
    "corrected_bw = [weight / 25 for weight in body_weight]\n",
    "\n",
    "Infusion_Rate_umol = [bw * 5.34 for bw in corrected_bw]\n",
    "\n",
    "#1 * (weight/25) = infusion rate in mg/kg/min\n",
    "Infusion_Rate_mg = corrected_bw"
   ]
  },
  {
   "cell_type": "markdown",
   "metadata": {},
   "source": [
    "Make background MDV with binomal expansion for d7-glucose"
   ]
  },
  {
   "cell_type": "code",
   "execution_count": 46,
   "metadata": {},
   "outputs": [
    {
     "data": {
      "image/png": "[encoded data removed]",
      "text/plain": [
       "<Figure size 432x288 with 1 Axes>"
      ]
     },
     "metadata": {},
     "output_type": "display_data"
    }
   ],
   "source": [
    "from scipy.stats import binom\n",
    "#d7 glucose theoretical carbon distributions\n",
    "#There are 7 labeled deuteriums with 0.0156% natural abundance\n",
    "#So chance of label in each of the 7 positions is 0.000156\n",
    "\n",
    "n, p = 7, 0.000156\n",
    "x = np.arange(8)\n",
    "mean, var, skew, kurt = binom.stats(n, p, moments='mvsk')\n",
    "fig, ax = plt.subplots(1, 1)\n",
    "ax.plot(x, binom.pmf(x, n, p), 'bo', ms=8, label='Likelihood of label in 7 D positions from natural abundance')\n",
    "ax.vlines(x, 0, binom.pmf(x, n, p), colors='b', lw=5, alpha=0.5)\n",
    "\n",
    "rv = binom(n, p)\n",
    "\n",
    "ax.legend(loc='best', frameon=False)\n",
    "\n",
    "background2H_glucose_mdv = rv.pmf(x)\n",
    "\n",
    "plt.show()"
   ]
  },
  {
   "cell_type": "markdown",
   "metadata": {},
   "source": [
    "Make tracer MDV with binomal expansion for d7-glucose"
   ]
  },
  {
   "cell_type": "code",
   "execution_count": 47,
   "metadata": {},
   "outputs": [
    {
     "data": {
      "image/png": "[encoded data removed]",
      "text/plain": [
       "<Figure size 432x288 with 1 Axes>"
      ]
     },
     "metadata": {},
     "output_type": "display_data"
    }
   ],
   "source": [
    "#d7 glucose theoretical carbon distributions\n",
    "#There are 7 labeled deuteriums with 97-98% purity\n",
    "#So chance of label in each of the 7 positions is 97.5\n",
    "\n",
    "n, p = 7, 0.98\n",
    "mean, var, skew, kurt = binom.stats(n, p, moments='mvsk')\n",
    "#Make a list from 0:7 and store it as an array\n",
    "x = np.arange(8)\n",
    "fig, ax = plt.subplots(1, 1)\n",
    "ax.plot(x, binom.pmf(x, n, p), 'bo', ms=8, label='Likelihood of label in 7 D positions of d-7glucose')\n",
    "ax.vlines(x, 0, binom.pmf(x, n, p), colors='b', lw=5, alpha=0.5)\n",
    "\n",
    "rv = binom(n, p)\n",
    "\n",
    "ax.legend(loc='best', frameon=False)\n",
    "\n",
    "tracer_glucose_mdv = rv.pmf(x) \n",
    "\n",
    "plt.show()"
   ]
  },
  {
   "cell_type": "code",
   "execution_count": 48,
   "metadata": {},
   "outputs": [],
   "source": [
    "# Add four 0s at end of tracer and background MDV to match length of plasma\n",
    "tracer_glucose_mdv = np.append(tracer_glucose_mdv, [0,0,0,0,0])\n",
    "background2H_glucose_mdv = np.append(background2H_glucose_mdv, [0,0,0,0,0])"
   ]
  },
  {
   "cell_type": "markdown",
   "metadata": {},
   "source": [
    "Glucose Turnover as mg/kg/min."
   ]
  },
  {
   "cell_type": "code",
   "execution_count": 49,
   "metadata": {},
   "outputs": [],
   "source": [
    "#Calculate turnover for all samples using turnover function\n",
    "\n",
    "import Kelleherturnover as turnover\n",
    "\n",
    "Glucose_Turnover2H_mg = []\n",
    "\n",
    "for col in raw2H_glucose_nml:\n",
    "    x = turnover.Turnover_Ra(tracer_glucose_mdv, background2H_glucose_mdv,raw2H_glucose_nml[col].tolist(), 1)\n",
    "    Glucose_Turnover2H_mg.append(x)"
   ]
  },
  {
   "cell_type": "code",
   "execution_count": 50,
   "metadata": {},
   "outputs": [],
   "source": [
    "bw_corrected_glucose_turnover_mg = np.array(corrected_bw) * np.array(Glucose_Turnover2H_mg)"
   ]
  },
  {
   "cell_type": "code",
   "execution_count": 51,
   "metadata": {},
   "outputs": [],
   "source": [
    "df = pd.DataFrame({\"Glucose Turnover\": bw_corrected_glucose_turnover_mg, \"Condition\": ['Exercise', 'Sedentary', 'Exercise', 'Exercise', 'Sedentary', 'Exercise', 'Sedentary', 'Exercise', 'Sedentary', 'Exercise', 'Sedentary', 'Exercise', 'Sedentary', 'Exercise', 'Sedentary']})"
   ]
  },
  {
   "cell_type": "code",
   "execution_count": 52,
   "metadata": {},
   "outputs": [
    {
     "data": {
      "text/plain": [
       "array([43.14855465, 42.16794152, 29.13265194, 41.96243134, 40.27326286,\n",
       "       44.46613302, 27.83074994, 55.11806161, 47.97730571, 37.78320185,\n",
       "       39.03297769, 38.77530004, 26.95363239, 35.93235405, 28.53522783])"
      ]
     },
     "execution_count": 52,
     "metadata": {},
     "output_type": "execute_result"
    }
   ],
   "source": [
    "bw_corrected_glucose_turnover_mg"
   ]
  },
  {
   "cell_type": "code",
   "execution_count": 53,
   "metadata": {},
   "outputs": [
    {
     "data": {
      "text/plain": [
       "<AxesSubplot:xlabel='Condition', ylabel='Glucose Turnover'>"
      ]
     },
     "execution_count": 53,
     "metadata": {},
     "output_type": "execute_result"
    },
    {
     "data": {
      "image/png": "[encoded data removed]",
      "text/plain": [
       "<Figure size 432x288 with 1 Axes>"
      ]
     },
     "metadata": {},
     "output_type": "display_data"
    }
   ],
   "source": [
    "sns.barplot(data=df, x='Condition', y='Glucose Turnover', hue='Condition')"
   ]
  },
  {
   "cell_type": "markdown",
   "metadata": {},
   "source": [
    "Glucose turnover as umol/kg/min."
   ]
  },
  {
   "cell_type": "code",
   "execution_count": 54,
   "metadata": {},
   "outputs": [],
   "source": [
    "#Calculate turnover for all samples using turnover function\n",
    "\n",
    "Glucose_Turnover2H_mg = []\n",
    "\n",
    "for col in raw2H_glucose_nml:\n",
    "    x = turnover.Turnover_Ra(tracer_glucose_mdv, background2H_glucose_mdv,raw2H_glucose_nml[col].tolist(), 5.34)\n",
    "    Glucose_Turnover2H_mg.append(x)"
   ]
  },
  {
   "cell_type": "code",
   "execution_count": 55,
   "metadata": {},
   "outputs": [
    {
     "data": {
      "text/plain": [
       "array([230.41328182, 225.17680769, 155.56836136, 224.07938337,\n",
       "       215.05922367, 237.4491503 , 148.61620469, 294.33044899,\n",
       "       256.19881251, 201.76229786, 208.43610087, 207.06010219,\n",
       "       143.93239695, 191.87877061, 152.37811664])"
      ]
     },
     "execution_count": 55,
     "metadata": {},
     "output_type": "execute_result"
    }
   ],
   "source": [
    "bw_corrected_glucose_turnover_umol = np.array(corrected_bw) * np.array(Glucose_Turnover2H_mg)\n",
    "bw_corrected_glucose_turnover_umol"
   ]
  },
  {
   "cell_type": "code",
   "execution_count": 56,
   "metadata": {},
   "outputs": [],
   "source": [
    "df = pd.DataFrame({\"Glucose Turnover\": bw_corrected_glucose_turnover_umol, \"Condition\": ['Exercise', 'Sedentary', 'Exercise', 'Exercise', 'Sedentary', 'Exercise', 'Sedentary', 'Exercise', 'Sedentary', 'Exercise', 'Sedentary', 'Exercise', 'Sedentary', 'Exercise', 'Sedentary']})"
   ]
  },
  {
   "cell_type": "code",
   "execution_count": 57,
   "metadata": {},
   "outputs": [],
   "source": [
    "glucose_turnover = df"
   ]
  },
  {
   "cell_type": "code",
   "execution_count": 58,
   "metadata": {},
   "outputs": [
    {
     "data": {
      "image/png": "[encoded data removed]",
      "text/plain": [
       "<Figure size 432x288 with 1 Axes>"
      ]
     },
     "metadata": {},
     "output_type": "display_data"
    }
   ],
   "source": [
    "sns.set_style(\"white\")\n",
    "sns.set_style(\"ticks\")\n",
    "\n",
    "sns.barplot(data=df, x='Condition', y='Glucose Turnover', hue='Condition', palette = 'Pastel1', order=['Sedentary', 'Exercise'], hue_order=['Sedentary', 'Exercise'], ci=68, capsize=0.1)\n",
    "plt.savefig('../figures/glucose_turnover.svg', bbox_inches=\"tight\", dpi=300)"
   ]
  },
  {
   "cell_type": "markdown",
   "metadata": {},
   "source": [
    "# Glutamine Turnover"
   ]
  },
  {
   "cell_type": "markdown",
   "metadata": {},
   "source": [
    "Infusion rate of glutamine tracer in umol/kg/minute\n",
    "\n",
    "7.5 umol/kg/min is 1.21 mg/kg/min.\n",
    "\n",
    "7.5 * (weight/25) = infusion rate in uMol/kg/min"
   ]
  },
  {
   "cell_type": "code",
   "execution_count": 59,
   "metadata": {},
   "outputs": [],
   "source": [
    "Gln_Infusion_Rate_umol = [bw * 7.5 for bw in corrected_bw]\n",
    "\n",
    "#1 * (weight/25) = infusion rate in mg/kg/min\n",
    "Gln_Infusion_Rate_mg = [bw * 1.21 for bw in corrected_bw]"
   ]
  },
  {
   "cell_type": "code",
   "execution_count": 60,
   "metadata": {},
   "outputs": [
    {
     "data": {
      "image/png": "[encoded data removed]",
      "text/plain": [
       "<Figure size 432x288 with 1 Axes>"
      ]
     },
     "metadata": {},
     "output_type": "display_data"
    }
   ],
   "source": [
    "#U13C Glutamine theoretical carbon distributions\n",
    "#There are 5 labeled carbons with 1.11% natural abundance\n",
    "#So chance of label in each of the 5 positions is 0.011\n",
    "\n",
    "n, p = 5, 0.011\n",
    "x = np.arange(6)\n",
    "mean, var, skew, kurt = binom.stats(n, p, moments='mvsk')\n",
    "fig, ax = plt.subplots(1, 1)\n",
    "ax.plot(x, binom.pmf(x, n, p), 'bo', ms=8, label='Likelihood of label')\n",
    "ax.vlines(x, 0, binom.pmf(x, n, p), colors='b', lw=5, alpha=0.5)\n",
    "\n",
    "rv = binom(n, p)\n",
    "\n",
    "ax.legend(loc='best', frameon=False)\n",
    "\n",
    "background_glutamine_mdv = rv.pmf(x)\n",
    "\n",
    "plt.show()"
   ]
  },
  {
   "cell_type": "code",
   "execution_count": 61,
   "metadata": {},
   "outputs": [
    {
     "data": {
      "image/png": "[encoded data removed]",
      "text/plain": [
       "<Figure size 432x288 with 1 Axes>"
      ]
     },
     "metadata": {},
     "output_type": "display_data"
    }
   ],
   "source": [
    "#There are 5 labeled carbons with 99% purity\n",
    "#So chance of label in each of the 5 positions is 0.99\n",
    "\n",
    "n, p = 5, 0.99\n",
    "mean, var, skew, kurt = binom.stats(n, p, moments='mvsk')\n",
    "#Make a list from 0:7 and store it as an array\n",
    "x = np.arange(6)\n",
    "fig, ax = plt.subplots(1, 1)\n",
    "ax.plot(x, binom.pmf(x, n, p), 'bo', ms=8, label='Likelihood of label in U13C-Glutamine')\n",
    "ax.vlines(x, 0, binom.pmf(x, n, p), colors='b', lw=5, alpha=0.5)\n",
    "\n",
    "rv = binom(n, p)\n",
    "\n",
    "ax.legend(loc='best', frameon=False)\n",
    "\n",
    "tracer_glutamine_mdv = rv.pmf(x) \n",
    "\n",
    "plt.show()"
   ]
  },
  {
   "cell_type": "markdown",
   "metadata": {},
   "source": [
    "Glutamine Turnover as mg/kg/min."
   ]
  },
  {
   "cell_type": "code",
   "execution_count": 62,
   "metadata": {},
   "outputs": [],
   "source": [
    "#Calculate turnover for all samples using turnover function\n",
    "\n",
    "Glutamine_Turnover_mg = []\n",
    "\n",
    "for col in raw2H_glucose_nml:\n",
    "    x = turnover.Turnover_Ra(tracer_glutamine_mdv, background_glutamine_mdv,raw13C_glutamine_nml[col].tolist(), 1.21)\n",
    "    Glutamine_Turnover_mg.append(x)"
   ]
  },
  {
   "cell_type": "code",
   "execution_count": 63,
   "metadata": {},
   "outputs": [
    {
     "data": {
      "text/plain": [
       "array([13.12644968, 16.61463976,  9.70640191, 15.92868773, 14.58153534,\n",
       "       19.35288233, 11.04334197, 17.32511642, 18.50538038, 16.43579566,\n",
       "       12.69846637, 14.668719  , 10.79149431, 13.56178647, 14.55457072])"
      ]
     },
     "execution_count": 63,
     "metadata": {},
     "output_type": "execute_result"
    }
   ],
   "source": [
    "bw_corrected_glutamine_turnover_mg = np.array(corrected_bw) * np.array(Glutamine_Turnover_mg)\n",
    "bw_corrected_glutamine_turnover_mg"
   ]
  },
  {
   "cell_type": "code",
   "execution_count": 64,
   "metadata": {},
   "outputs": [],
   "source": [
    "df = pd.DataFrame({\"Glutamine Turnover\": bw_corrected_glutamine_turnover_mg, \"Condition\": ['Exercise', 'Sedentary', 'Exercise', 'Exercise', 'Sedentary', 'Exercise', 'Sedentary', 'Exercise', 'Sedentary', 'Exercise', 'Sedentary', 'Exercise', 'Sedentary', 'Exercise', 'Sedentary']})"
   ]
  },
  {
   "cell_type": "code",
   "execution_count": 65,
   "metadata": {},
   "outputs": [
    {
     "data": {
      "text/plain": [
       "<AxesSubplot:xlabel='Condition', ylabel='Glutamine Turnover'>"
      ]
     },
     "execution_count": 65,
     "metadata": {},
     "output_type": "execute_result"
    },
    {
     "data": {
      "image/png": "[encoded data removed]",
      "text/plain": [
       "<Figure size 432x288 with 1 Axes>"
      ]
     },
     "metadata": {},
     "output_type": "display_data"
    }
   ],
   "source": [
    "sns.barplot(data=df, x='Condition', y='Glutamine Turnover', hue='Condition')"
   ]
  },
  {
   "cell_type": "code",
   "execution_count": 66,
   "metadata": {},
   "outputs": [],
   "source": [
    "#Calculate turnover for all samples using turnover function\n",
    "\n",
    "Glutamine_Turnover_umol = []\n",
    "\n",
    "for col in raw2H_glucose_nml:\n",
    "    x = turnover.Turnover_Ra(tracer_glutamine_mdv, background_glutamine_mdv,raw13C_glutamine_nml[col].tolist(), 7.5)\n",
    "    Glutamine_Turnover_umol.append(x)"
   ]
  },
  {
   "cell_type": "code",
   "execution_count": 67,
   "metadata": {},
   "outputs": [],
   "source": [
    "bw_corrected_glutamine_turnover_umol = np.array(corrected_bw) * np.array(Glutamine_Turnover_umol)"
   ]
  },
  {
   "cell_type": "code",
   "execution_count": 68,
   "metadata": {},
   "outputs": [],
   "source": [
    "df = pd.DataFrame({\"Glutamine Turnover\": bw_corrected_glutamine_turnover_umol, \"Condition\": ['Exercise', 'Sedentary', 'Exercise', 'Exercise', 'Sedentary', 'Exercise', 'Sedentary', 'Exercise', 'Sedentary', 'Exercise', 'Sedentary', 'Exercise', 'Sedentary', 'Exercise', 'Sedentary']})"
   ]
  },
  {
   "cell_type": "code",
   "execution_count": 69,
   "metadata": {},
   "outputs": [],
   "source": [
    "glutamine_turnover = df"
   ]
  },
  {
   "cell_type": "code",
   "execution_count": 70,
   "metadata": {},
   "outputs": [
    {
     "data": {
      "image/png": "[encoded data removed]",
      "text/plain": [
       "<Figure size 432x288 with 1 Axes>"
      ]
     },
     "metadata": {},
     "output_type": "display_data"
    }
   ],
   "source": [
    "sns.set_style(\"white\")\n",
    "sns.set_style(\"ticks\")\n",
    "\n",
    "sns.barplot(data=df, x='Condition', y='Glutamine Turnover', hue='Condition', palette = 'Pastel1', order=['Sedentary', 'Exercise'], hue_order=['Sedentary', 'Exercise'], ci=68, capsize=0.1)\n",
    "plt.savefig('../figures/glutamine_turnover.svg', bbox_inches=\"tight\", dpi=300)"
   ]
  },
  {
   "cell_type": "code",
   "execution_count": 71,
   "metadata": {},
   "outputs": [
    {
     "data": {
      "text/html": [
       "<div>\n",
       "<style scoped>\n",
       "    .dataframe tbody tr th:only-of-type {\n",
       "        vertical-align: middle;\n",
       "    }\n",
       "\n",
       "    .dataframe tbody tr th {\n",
       "        vertical-align: top;\n",
       "    }\n",
       "\n",
       "    .dataframe thead th {\n",
       "        text-align: right;\n",
       "    }\n",
       "</style>\n",
       "<table border=\"1\" class=\"dataframe\">\n",
       "  <thead>\n",
       "    <tr style=\"text-align: right;\">\n",
       "      <th></th>\n",
       "      <th>Glutamine Turnover</th>\n",
       "      <th>Condition</th>\n",
       "    </tr>\n",
       "  </thead>\n",
       "  <tbody>\n",
       "    <tr>\n",
       "      <th>0</th>\n",
       "      <td>81.362291</td>\n",
       "      <td>Exercise</td>\n",
       "    </tr>\n",
       "    <tr>\n",
       "      <th>1</th>\n",
       "      <td>102.983304</td>\n",
       "      <td>Sedentary</td>\n",
       "    </tr>\n",
       "    <tr>\n",
       "      <th>2</th>\n",
       "      <td>60.163648</td>\n",
       "      <td>Exercise</td>\n",
       "    </tr>\n",
       "    <tr>\n",
       "      <th>3</th>\n",
       "      <td>98.731536</td>\n",
       "      <td>Exercise</td>\n",
       "    </tr>\n",
       "    <tr>\n",
       "      <th>4</th>\n",
       "      <td>90.381417</td>\n",
       "      <td>Sedentary</td>\n",
       "    </tr>\n",
       "    <tr>\n",
       "      <th>5</th>\n",
       "      <td>119.955882</td>\n",
       "      <td>Exercise</td>\n",
       "    </tr>\n",
       "    <tr>\n",
       "      <th>6</th>\n",
       "      <td>68.450467</td>\n",
       "      <td>Sedentary</td>\n",
       "    </tr>\n",
       "    <tr>\n",
       "      <th>7</th>\n",
       "      <td>107.387085</td>\n",
       "      <td>Exercise</td>\n",
       "    </tr>\n",
       "    <tr>\n",
       "      <th>8</th>\n",
       "      <td>114.702771</td>\n",
       "      <td>Sedentary</td>\n",
       "    </tr>\n",
       "    <tr>\n",
       "      <th>9</th>\n",
       "      <td>101.874766</td>\n",
       "      <td>Exercise</td>\n",
       "    </tr>\n",
       "    <tr>\n",
       "      <th>10</th>\n",
       "      <td>78.709502</td>\n",
       "      <td>Sedentary</td>\n",
       "    </tr>\n",
       "    <tr>\n",
       "      <th>11</th>\n",
       "      <td>90.921812</td>\n",
       "      <td>Exercise</td>\n",
       "    </tr>\n",
       "    <tr>\n",
       "      <th>12</th>\n",
       "      <td>66.889428</td>\n",
       "      <td>Sedentary</td>\n",
       "    </tr>\n",
       "    <tr>\n",
       "      <th>13</th>\n",
       "      <td>84.060660</td>\n",
       "      <td>Exercise</td>\n",
       "    </tr>\n",
       "    <tr>\n",
       "      <th>14</th>\n",
       "      <td>90.214281</td>\n",
       "      <td>Sedentary</td>\n",
       "    </tr>\n",
       "  </tbody>\n",
       "</table>\n",
       "</div>"
      ],
      "text/plain": [
       "    Glutamine Turnover  Condition\n",
       "0            81.362291   Exercise\n",
       "1           102.983304  Sedentary\n",
       "2            60.163648   Exercise\n",
       "3            98.731536   Exercise\n",
       "4            90.381417  Sedentary\n",
       "5           119.955882   Exercise\n",
       "6            68.450467  Sedentary\n",
       "7           107.387085   Exercise\n",
       "8           114.702771  Sedentary\n",
       "9           101.874766   Exercise\n",
       "10           78.709502  Sedentary\n",
       "11           90.921812   Exercise\n",
       "12           66.889428  Sedentary\n",
       "13           84.060660   Exercise\n",
       "14           90.214281  Sedentary"
      ]
     },
     "execution_count": 71,
     "metadata": {},
     "output_type": "execute_result"
    }
   ],
   "source": [
    "glutamine_turnover"
   ]
  },
  {
   "cell_type": "code",
   "execution_count": 72,
   "metadata": {},
   "outputs": [],
   "source": [
    "glucose_turnover['Glutamine Turnover'] = glutamine_turnover['Glutamine Turnover'].tolist()"
   ]
  },
  {
   "cell_type": "code",
   "execution_count": 47,
   "metadata": {},
   "outputs": [],
   "source": [
    "glucose_turnover.to_csv('/Users/brooksleitner/Desktop/Python/PerryLabData/ExerciseCancer/ExerciseCancerMouseData/data/metabolomics/turnover.csv')"
   ]
  }
 ],
 "metadata": {
  "interpreter": {
   "hash": "7e0b1df48ae0120ab319f0bbe2cbf48c64d9ec9ece5a71668ddf7c93dfb898bd"
  },
  "kernelspec": {
   "display_name": "Python 3.9.7 ('sepsismetabolism')",
   "language": "python",
   "name": "python3"
  },
  "language_info": {
   "codemirror_mode": {
    "name": "ipython",
    "version": 3
   },
   "file_extension": ".py",
   "mimetype": "text/x-python",
   "name": "python",
   "nbconvert_exporter": "python",
   "pygments_lexer": "ipython3",
   "version": "3.9.7"
  },
  "orig_nbformat": 4
 },
 "nbformat": 4,
 "nbformat_minor": 2
}
